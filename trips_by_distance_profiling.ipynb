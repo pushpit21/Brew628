{
 "cells": [
  {
   "cell_type": "code",
   "execution_count": 37,
   "id": "00a483af",
   "metadata": {},
   "outputs": [],
   "source": [
    "import pandas as pd\n",
    "import matplotlib.pyplot as plt\n",
    "from sklearn.preprocessing import StandardScaler\n",
    "import numpy as np"
   ]
  },
  {
   "cell_type": "code",
   "execution_count": 38,
   "id": "60647cd1",
   "metadata": {},
   "outputs": [],
   "source": [
    "df = pd.read_csv('yelp_Fall2023/Trips_by_Distance.csv')"
   ]
  },
  {
   "cell_type": "code",
   "execution_count": 39,
   "id": "66a136f7",
   "metadata": {},
   "outputs": [
    {
     "name": "stdout",
     "output_type": "stream",
     "text": [
      "      Level        Date  State FIPS State Postal Code  County FIPS  \\\n",
      "0  National  2019/01/01         NaN               NaN          NaN   \n",
      "1  National  2019/01/02         NaN               NaN          NaN   \n",
      "2  National  2019/01/03         NaN               NaN          NaN   \n",
      "3  National  2019/01/04         NaN               NaN          NaN   \n",
      "4  National  2019/01/05         NaN               NaN          NaN   \n",
      "\n",
      "  County Name  Population Staying at Home  Population Not Staying at Home  \\\n",
      "0         NaN                  77433867.0                     248733553.0   \n",
      "1         NaN                  61305201.0                     264862219.0   \n",
      "2         NaN                  63050480.0                     263116940.0   \n",
      "3         NaN                  61803652.0                     264363768.0   \n",
      "4         NaN                  64389745.0                     261777675.0   \n",
      "\n",
      "   Number of Trips  Number of Trips <1  ...  Number of Trips 5-10  \\\n",
      "0     8.977844e+08         241667151.0  ...           129670778.0   \n",
      "1     1.139452e+09         291276735.0  ...           171637514.0   \n",
      "2     1.162753e+09         296375014.0  ...           175775410.0   \n",
      "3     1.181954e+09         293159631.0  ...           181324645.0   \n",
      "4     1.180477e+09         295459014.0  ...           180941769.0   \n",
      "\n",
      "   Number of Trips 10-25  Number of Trips 25-50  Number of Trips 50-100  \\\n",
      "0            116904343.0             40432062.0              15686639.0   \n",
      "1            167412698.0             56148976.0              17739183.0   \n",
      "2            172027487.0             57632422.0              18366626.0   \n",
      "3            176144493.0             58761592.0              19315785.0   \n",
      "4            165239790.0             54842134.0              19363939.0   \n",
      "\n",
      "   Number of Trips 100-250  Number of Trips 250-500  Number of Trips >=500  \\\n",
      "0                7525563.0                1806022.0              1728112.0   \n",
      "1                7817044.0                1962301.0              1531219.0   \n",
      "2                8124548.0                2038099.0              1567072.0   \n",
      "3                8687318.0                2096065.0              1569185.0   \n",
      "4                8490791.0                1991159.0              1438664.0   \n",
      "\n",
      "              Row ID  Week Month  \n",
      "0  00-00000-20190101     0     1  \n",
      "1  00-00000-20190102     0     1  \n",
      "2  00-00000-20190103     0     1  \n",
      "3  00-00000-20190104     0     1  \n",
      "4  00-00000-20190105     0     1  \n",
      "\n",
      "[5 rows x 22 columns]\n",
      "[ 1  2  3  4  5  6  7  8  9 10 11 12]\n"
     ]
    }
   ],
   "source": [
    "print(df.head()) \n",
    "print(df['Month'].unique())"
   ]
  },
  {
   "cell_type": "code",
   "execution_count": 40,
   "id": "29a97249",
   "metadata": {},
   "outputs": [],
   "source": [
    "INwithCounty = df.loc[ (df['State Postal Code'] == 'IN') & (df['County FIPS'].notnull())]"
   ]
  },
  {
   "cell_type": "code",
   "execution_count": 41,
   "id": "ec02d714",
   "metadata": {},
   "outputs": [],
   "source": [
    "PAwithCounty = df.loc[ (df['State Postal Code'] == 'PA') & (df['County FIPS'].notnull())]"
   ]
  },
  {
   "cell_type": "code",
   "execution_count": 42,
   "id": "f8949baf",
   "metadata": {},
   "outputs": [],
   "source": [
    "scaled =( INwithCounty['Number of Trips <1'] - INwithCounty['Number of Trips <1'].mean() ) / INwithCounty['Number of Trips <1'].std()\n",
    "scaled1_3 =( INwithCounty['Number of Trips 1-3'] - INwithCounty['Number of Trips 1-3'].mean() ) / INwithCounty['Number of Trips 1-3'].std()\n",
    "#INwithCounty.plot(x= 'Month', y = ['Number of Trips <1', 'Number of Trips 1-3'], kind = 'bar')\\\n"
   ]
  },
  {
   "cell_type": "code",
   "execution_count": 43,
   "id": "f95432ed",
   "metadata": {},
   "outputs": [],
   "source": [
    "scaledPA = ( PAwithCounty['Number of Trips <1'] - PAwithCounty['Number of Trips <1'].mean() ) / PAwithCounty['Number of Trips <1'].std()\n",
    "scaled1_3PA =( PAwithCounty['Number of Trips 1-3'] - PAwithCounty['Number of Trips 1-3'].mean() ) / PAwithCounty['Number of Trips 1-3'].std()"
   ]
  },
  {
   "cell_type": "code",
   "execution_count": 44,
   "id": "1228f7c6",
   "metadata": {},
   "outputs": [
    {
     "name": "stdout",
     "output_type": "stream",
     "text": [
      "12.610463113114767\n"
     ]
    }
   ],
   "source": [
    "print(scaled.max())"
   ]
  },
  {
   "cell_type": "code",
   "execution_count": 45,
   "id": "7a10d9af",
   "metadata": {},
   "outputs": [
    {
     "data": {
      "text/plain": [
       "<BarContainer object of 160172 artists>"
      ]
     },
     "execution_count": 45,
     "metadata": {},
     "output_type": "execute_result"
    },
    {
     "data": {
      "image/png": "[encoded data removed]",
      "text/plain": [
       "<Figure size 640x480 with 1 Axes>"
      ]
     },
     "metadata": {},
     "output_type": "display_data"
    }
   ],
   "source": [
    "ax = plt.subplot() \n",
    "ax.bar(INwithCounty[\"Month\"], scaled) \n",
    "ax.bar(INwithCounty[\"Month\"], scaled1_3, color=\"maroon\") "
   ]
  },
  {
   "cell_type": "code",
   "execution_count": 46,
   "id": "4ddb3571",
   "metadata": {},
   "outputs": [
    {
     "data": {
      "text/plain": [
       "<BarContainer object of 116647 artists>"
      ]
     },
     "execution_count": 46,
     "metadata": {},
     "output_type": "execute_result"
    },
    {
     "data": {
      "image/png": "[encoded data removed]",
      "text/plain": [
       "<Figure size 640x480 with 1 Axes>"
      ]
     },
     "metadata": {},
     "output_type": "display_data"
    }
   ],
   "source": [
    "ax = plt.subplot() \n",
    "ax.bar(PAwithCounty[\"Month\"], scaledPA) \n",
    "ax.bar(PAwithCounty[\"Month\"], scaled1_3PA, color=\"maroon\") "
   ]
  },
  {
   "cell_type": "code",
   "execution_count": 47,
   "id": "46781355",
   "metadata": {},
   "outputs": [
    {
     "data": {
      "text/plain": [
       "<bound method Series.unique of 48590      Marion County\n",
       "50074      Marion County\n",
       "53207      Marion County\n",
       "56817      Marion County\n",
       "61098      Marion County\n",
       "               ...      \n",
       "5545412    Marion County\n",
       "5548543    Marion County\n",
       "5551620    Marion County\n",
       "5554837    Marion County\n",
       "5557914    Marion County\n",
       "Name: County Name, Length: 1741, dtype: object>"
      ]
     },
     "execution_count": 47,
     "metadata": {},
     "output_type": "execute_result"
    }
   ],
   "source": [
    "INwithCounty.loc[INwithCounty['County FIPS'] == 18097.0]['County Name'].unique"
   ]
  },
  {
   "cell_type": "code",
   "execution_count": 48,
   "id": "5a54ea44",
   "metadata": {},
   "outputs": [],
   "source": [
    "mean_max = INwithCounty.groupby('County FIPS').agg({'Number of Trips <1': ['mean', 'max']})"
   ]
  },
  {
   "cell_type": "code",
   "execution_count": 49,
   "id": "174294c6",
   "metadata": {},
   "outputs": [],
   "source": [
    "mean_maxPA = PAwithCounty.groupby('County FIPS').agg({'Number of Trips <1': ['mean', 'max']})"
   ]
  },
  {
   "cell_type": "code",
   "execution_count": 50,
   "id": "2b8597a9",
   "metadata": {},
   "outputs": [
    {
     "data": {
      "text/plain": [
       "County FIPS\n",
       "18115.0    4.984532e+03\n",
       "18161.0    6.184860e+03\n",
       "18171.0    7.132925e+03\n",
       "18007.0    7.392836e+03\n",
       "18025.0    7.907580e+03\n",
       "               ...     \n",
       "18057.0    2.976162e+05\n",
       "18141.0    3.110567e+05\n",
       "18003.0    3.963858e+05\n",
       "18089.0    5.443389e+05\n",
       "18097.0    1.110583e+06\n",
       "Name: mean, Length: 92, dtype: float64"
      ]
     },
     "execution_count": 50,
     "metadata": {},
     "output_type": "execute_result"
    }
   ],
   "source": [
    "mean_max['Number of Trips <1']['mean'].sort_values()"
   ]
  },
  {
   "cell_type": "code",
   "execution_count": 51,
   "id": "310ebb96",
   "metadata": {},
   "outputs": [
    {
     "data": {
      "text/plain": [
       "County FIPS\n",
       "42113.0    5.619910e+03\n",
       "42053.0    5.621523e+03\n",
       "42023.0    6.367733e+03\n",
       "42057.0    1.062293e+04\n",
       "42105.0    1.365235e+04\n",
       "               ...     \n",
       "42045.0    5.970725e+05\n",
       "42017.0    6.473113e+05\n",
       "42091.0    8.247461e+05\n",
       "42003.0    1.316025e+06\n",
       "42101.0    1.787800e+06\n",
       "Name: mean, Length: 67, dtype: float64"
      ]
     },
     "execution_count": 51,
     "metadata": {},
     "output_type": "execute_result"
    }
   ],
   "source": [
    "mean_maxPA['Number of Trips <1']['mean'].sort_values()"
   ]
  },
  {
   "cell_type": "markdown",
   "id": "2fe33d18",
   "metadata": {},
   "source": [
    "18057.0    2.976162e+05\n",
    "18141.0    3.110567e+05\n",
    "18003.0    3.963858e+05\n",
    "18089.0    5.443389e+05\n",
    "18097.0    1.110583e+06"
   ]
  },
  {
   "cell_type": "markdown",
   "id": "06d22a50",
   "metadata": {},
   "source": [
    "This shows that compared to most counties in Indiana, most amount of trips take place in 18097 County, which is the Marion County that engulfs Indianapolis. "
   ]
  },
  {
   "cell_type": "markdown",
   "id": "6318f1c0",
   "metadata": {},
   "source": [
    "What we see with Philadelphia is that the city consists of 5 different counties. \n",
    "Bucks County - 42017\n",
    "Delaware County - 42045\n",
    "Philadelphia County - 42101\n",
    "Montgomery County - 42091\n",
    "Chester (Not included in top 5 busiest counties)\n",
    "Allegheny County - 42003"
   ]
  },
  {
   "cell_type": "code",
   "execution_count": 52,
   "id": "2c3527ba",
   "metadata": {},
   "outputs": [],
   "source": [
    "INwithCounty = INwithCounty.assign(Quarter= np.select([INwithCounty.Month <4,INwithCounty.Month <7,INwithCounty.Month <10, INwithCounty.Month <13  ], [1, 2, 3, 4], 0))"
   ]
  },
  {
   "cell_type": "code",
   "execution_count": 53,
   "id": "0139b128",
   "metadata": {},
   "outputs": [],
   "source": [
    "PAwithCounty = PAwithCounty.assign(Quarter= np.select([PAwithCounty.Month <4,PAwithCounty.Month <7,PAwithCounty.Month <10, PAwithCounty.Month <13  ], [1, 2, 3, 4], 0))"
   ]
  },
  {
   "cell_type": "code",
   "execution_count": 54,
   "id": "47b7a4ae",
   "metadata": {},
   "outputs": [
    {
     "name": "stdout",
     "output_type": "stream",
     "text": [
      "[1]\n",
      "[3]\n",
      "[3]\n",
      "[4]\n"
     ]
    }
   ],
   "source": [
    "# Checking for correct assignment \n",
    "print(INwithCounty.loc[INwithCounty['Month']==1]['Quarter'].unique())\n",
    "print(INwithCounty.loc[INwithCounty['Month']==7]['Quarter'].unique())\n",
    "print(INwithCounty.loc[INwithCounty['Month']==9]['Quarter'].unique())\n",
    "print(INwithCounty.loc[INwithCounty['Month']==12]['Quarter'].unique())"
   ]
  },
  {
   "cell_type": "code",
   "execution_count": 55,
   "id": "cfa7734f",
   "metadata": {},
   "outputs": [],
   "source": [
    "INwithCounty = INwithCounty.assign(scaled = scaled)\n",
    "INwithCounty = INwithCounty.assign(scaled1_3 = scaled1_3)"
   ]
  },
  {
   "cell_type": "code",
   "execution_count": 56,
   "id": "f8d71cb1",
   "metadata": {},
   "outputs": [],
   "source": [
    "PAwithCounty = PAwithCounty.assign(scaledpa = scaledPA)\n",
    "PAwithCounty = PAwithCounty.assign(scaled1_3pa = scaled1_3PA)"
   ]
  },
  {
   "cell_type": "code",
   "execution_count": 57,
   "id": "de57e31f",
   "metadata": {},
   "outputs": [
    {
     "data": {
      "text/html": [
       "<div>\n",
       "<style scoped>\n",
       "    .dataframe tbody tr th:only-of-type {\n",
       "        vertical-align: middle;\n",
       "    }\n",
       "\n",
       "    .dataframe tbody tr th {\n",
       "        vertical-align: top;\n",
       "    }\n",
       "\n",
       "    .dataframe thead th {\n",
       "        text-align: right;\n",
       "    }\n",
       "</style>\n",
       "<table border=\"1\" class=\"dataframe\">\n",
       "  <thead>\n",
       "    <tr style=\"text-align: right;\">\n",
       "      <th></th>\n",
       "      <th>Level</th>\n",
       "      <th>Date</th>\n",
       "      <th>State FIPS</th>\n",
       "      <th>State Postal Code</th>\n",
       "      <th>County FIPS</th>\n",
       "      <th>County Name</th>\n",
       "      <th>Population Staying at Home</th>\n",
       "      <th>Population Not Staying at Home</th>\n",
       "      <th>Number of Trips</th>\n",
       "      <th>Number of Trips &lt;1</th>\n",
       "      <th>...</th>\n",
       "      <th>Number of Trips 50-100</th>\n",
       "      <th>Number of Trips 100-250</th>\n",
       "      <th>Number of Trips 250-500</th>\n",
       "      <th>Number of Trips &gt;=500</th>\n",
       "      <th>Row ID</th>\n",
       "      <th>Week</th>\n",
       "      <th>Month</th>\n",
       "      <th>Quarter</th>\n",
       "      <th>scaled</th>\n",
       "      <th>scaled1_3</th>\n",
       "    </tr>\n",
       "  </thead>\n",
       "  <tbody>\n",
       "    <tr>\n",
       "      <th>48547</th>\n",
       "      <td>County</td>\n",
       "      <td>2019/01/01</td>\n",
       "      <td>18.0</td>\n",
       "      <td>IN</td>\n",
       "      <td>18183.0</td>\n",
       "      <td>Whitley County</td>\n",
       "      <td>7153.0</td>\n",
       "      <td>26811.0</td>\n",
       "      <td>90881.0</td>\n",
       "      <td>17389.0</td>\n",
       "      <td>...</td>\n",
       "      <td>1470.0</td>\n",
       "      <td>903.0</td>\n",
       "      <td>128.0</td>\n",
       "      <td>184.0</td>\n",
       "      <td>18-18183-20190101</td>\n",
       "      <td>0</td>\n",
       "      <td>1</td>\n",
       "      <td>1</td>\n",
       "      <td>-0.410093</td>\n",
       "      <td>-0.414204</td>\n",
       "    </tr>\n",
       "    <tr>\n",
       "      <th>48548</th>\n",
       "      <td>County</td>\n",
       "      <td>2019/01/01</td>\n",
       "      <td>18.0</td>\n",
       "      <td>IN</td>\n",
       "      <td>18181.0</td>\n",
       "      <td>White County</td>\n",
       "      <td>5409.0</td>\n",
       "      <td>18693.0</td>\n",
       "      <td>60846.0</td>\n",
       "      <td>11566.0</td>\n",
       "      <td>...</td>\n",
       "      <td>1274.0</td>\n",
       "      <td>676.0</td>\n",
       "      <td>75.0</td>\n",
       "      <td>86.0</td>\n",
       "      <td>18-18181-20190101</td>\n",
       "      <td>0</td>\n",
       "      <td>1</td>\n",
       "      <td>1</td>\n",
       "      <td>-0.450655</td>\n",
       "      <td>-0.488073</td>\n",
       "    </tr>\n",
       "    <tr>\n",
       "      <th>48549</th>\n",
       "      <td>County</td>\n",
       "      <td>2019/01/01</td>\n",
       "      <td>18.0</td>\n",
       "      <td>IN</td>\n",
       "      <td>18179.0</td>\n",
       "      <td>Wells County</td>\n",
       "      <td>6143.0</td>\n",
       "      <td>22153.0</td>\n",
       "      <td>71483.0</td>\n",
       "      <td>12252.0</td>\n",
       "      <td>...</td>\n",
       "      <td>1463.0</td>\n",
       "      <td>1547.0</td>\n",
       "      <td>338.0</td>\n",
       "      <td>84.0</td>\n",
       "      <td>18-18179-20190101</td>\n",
       "      <td>0</td>\n",
       "      <td>1</td>\n",
       "      <td>1</td>\n",
       "      <td>-0.445877</td>\n",
       "      <td>-0.466784</td>\n",
       "    </tr>\n",
       "    <tr>\n",
       "      <th>48550</th>\n",
       "      <td>County</td>\n",
       "      <td>2019/01/01</td>\n",
       "      <td>18.0</td>\n",
       "      <td>IN</td>\n",
       "      <td>18177.0</td>\n",
       "      <td>Wayne County</td>\n",
       "      <td>15456.0</td>\n",
       "      <td>50428.0</td>\n",
       "      <td>168973.0</td>\n",
       "      <td>41544.0</td>\n",
       "      <td>...</td>\n",
       "      <td>3664.0</td>\n",
       "      <td>1756.0</td>\n",
       "      <td>488.0</td>\n",
       "      <td>329.0</td>\n",
       "      <td>18-18177-20190101</td>\n",
       "      <td>0</td>\n",
       "      <td>1</td>\n",
       "      <td>1</td>\n",
       "      <td>-0.241832</td>\n",
       "      <td>-0.172095</td>\n",
       "    </tr>\n",
       "    <tr>\n",
       "      <th>48551</th>\n",
       "      <td>County</td>\n",
       "      <td>2019/01/01</td>\n",
       "      <td>18.0</td>\n",
       "      <td>IN</td>\n",
       "      <td>18175.0</td>\n",
       "      <td>Washington County</td>\n",
       "      <td>5384.0</td>\n",
       "      <td>22652.0</td>\n",
       "      <td>82132.0</td>\n",
       "      <td>18358.0</td>\n",
       "      <td>...</td>\n",
       "      <td>1004.0</td>\n",
       "      <td>536.0</td>\n",
       "      <td>231.0</td>\n",
       "      <td>86.0</td>\n",
       "      <td>18-18175-20190101</td>\n",
       "      <td>0</td>\n",
       "      <td>1</td>\n",
       "      <td>1</td>\n",
       "      <td>-0.403343</td>\n",
       "      <td>-0.456649</td>\n",
       "    </tr>\n",
       "  </tbody>\n",
       "</table>\n",
       "<p>5 rows × 25 columns</p>\n",
       "</div>"
      ],
      "text/plain": [
       "        Level        Date  State FIPS State Postal Code  County FIPS  \\\n",
       "48547  County  2019/01/01        18.0                IN      18183.0   \n",
       "48548  County  2019/01/01        18.0                IN      18181.0   \n",
       "48549  County  2019/01/01        18.0                IN      18179.0   \n",
       "48550  County  2019/01/01        18.0                IN      18177.0   \n",
       "48551  County  2019/01/01        18.0                IN      18175.0   \n",
       "\n",
       "             County Name  Population Staying at Home  \\\n",
       "48547     Whitley County                      7153.0   \n",
       "48548       White County                      5409.0   \n",
       "48549       Wells County                      6143.0   \n",
       "48550       Wayne County                     15456.0   \n",
       "48551  Washington County                      5384.0   \n",
       "\n",
       "       Population Not Staying at Home  Number of Trips  Number of Trips <1  \\\n",
       "48547                         26811.0          90881.0             17389.0   \n",
       "48548                         18693.0          60846.0             11566.0   \n",
       "48549                         22153.0          71483.0             12252.0   \n",
       "48550                         50428.0         168973.0             41544.0   \n",
       "48551                         22652.0          82132.0             18358.0   \n",
       "\n",
       "       ...  Number of Trips 50-100  Number of Trips 100-250  \\\n",
       "48547  ...                  1470.0                    903.0   \n",
       "48548  ...                  1274.0                    676.0   \n",
       "48549  ...                  1463.0                   1547.0   \n",
       "48550  ...                  3664.0                   1756.0   \n",
       "48551  ...                  1004.0                    536.0   \n",
       "\n",
       "       Number of Trips 250-500  Number of Trips >=500             Row ID  \\\n",
       "48547                    128.0                  184.0  18-18183-20190101   \n",
       "48548                     75.0                   86.0  18-18181-20190101   \n",
       "48549                    338.0                   84.0  18-18179-20190101   \n",
       "48550                    488.0                  329.0  18-18177-20190101   \n",
       "48551                    231.0                   86.0  18-18175-20190101   \n",
       "\n",
       "       Week  Month  Quarter    scaled scaled1_3  \n",
       "48547     0      1        1 -0.410093 -0.414204  \n",
       "48548     0      1        1 -0.450655 -0.488073  \n",
       "48549     0      1        1 -0.445877 -0.466784  \n",
       "48550     0      1        1 -0.241832 -0.172095  \n",
       "48551     0      1        1 -0.403343 -0.456649  \n",
       "\n",
       "[5 rows x 25 columns]"
      ]
     },
     "execution_count": 57,
     "metadata": {},
     "output_type": "execute_result"
    }
   ],
   "source": [
    "INwithCounty.head()"
   ]
  },
  {
   "cell_type": "code",
   "execution_count": 58,
   "id": "e32f335c",
   "metadata": {},
   "outputs": [
    {
     "data": {
      "text/html": [
       "<div>\n",
       "<style scoped>\n",
       "    .dataframe tbody tr th:only-of-type {\n",
       "        vertical-align: middle;\n",
       "    }\n",
       "\n",
       "    .dataframe tbody tr th {\n",
       "        vertical-align: top;\n",
       "    }\n",
       "\n",
       "    .dataframe thead th {\n",
       "        text-align: right;\n",
       "    }\n",
       "</style>\n",
       "<table border=\"1\" class=\"dataframe\">\n",
       "  <thead>\n",
       "    <tr style=\"text-align: right;\">\n",
       "      <th></th>\n",
       "      <th>Level</th>\n",
       "      <th>Date</th>\n",
       "      <th>State FIPS</th>\n",
       "      <th>State Postal Code</th>\n",
       "      <th>County FIPS</th>\n",
       "      <th>County Name</th>\n",
       "      <th>Population Staying at Home</th>\n",
       "      <th>Population Not Staying at Home</th>\n",
       "      <th>Number of Trips</th>\n",
       "      <th>Number of Trips &lt;1</th>\n",
       "      <th>...</th>\n",
       "      <th>Number of Trips 50-100</th>\n",
       "      <th>Number of Trips 100-250</th>\n",
       "      <th>Number of Trips 250-500</th>\n",
       "      <th>Number of Trips &gt;=500</th>\n",
       "      <th>Row ID</th>\n",
       "      <th>Week</th>\n",
       "      <th>Month</th>\n",
       "      <th>Quarter</th>\n",
       "      <th>scaledpa</th>\n",
       "      <th>scaled1_3pa</th>\n",
       "    </tr>\n",
       "  </thead>\n",
       "  <tbody>\n",
       "    <tr>\n",
       "      <th>47307</th>\n",
       "      <td>County</td>\n",
       "      <td>2019/01/01</td>\n",
       "      <td>42.0</td>\n",
       "      <td>PA</td>\n",
       "      <td>42001.0</td>\n",
       "      <td>Adams County</td>\n",
       "      <td>21320.0</td>\n",
       "      <td>81689.0</td>\n",
       "      <td>277795.0</td>\n",
       "      <td>49578.0</td>\n",
       "      <td>...</td>\n",
       "      <td>7280.0</td>\n",
       "      <td>2124.0</td>\n",
       "      <td>364.0</td>\n",
       "      <td>271.0</td>\n",
       "      <td>42-42001-20190101</td>\n",
       "      <td>0</td>\n",
       "      <td>1</td>\n",
       "      <td>1</td>\n",
       "      <td>-0.464404</td>\n",
       "      <td>-0.436608</td>\n",
       "    </tr>\n",
       "    <tr>\n",
       "      <th>47308</th>\n",
       "      <td>County</td>\n",
       "      <td>2019/01/01</td>\n",
       "      <td>42.0</td>\n",
       "      <td>PA</td>\n",
       "      <td>42003.0</td>\n",
       "      <td>Allegheny County</td>\n",
       "      <td>310544.0</td>\n",
       "      <td>905501.0</td>\n",
       "      <td>3240339.0</td>\n",
       "      <td>897498.0</td>\n",
       "      <td>...</td>\n",
       "      <td>28719.0</td>\n",
       "      <td>17208.0</td>\n",
       "      <td>4713.0</td>\n",
       "      <td>6125.0</td>\n",
       "      <td>42-42003-20190101</td>\n",
       "      <td>0</td>\n",
       "      <td>1</td>\n",
       "      <td>1</td>\n",
       "      <td>2.333079</td>\n",
       "      <td>2.761655</td>\n",
       "    </tr>\n",
       "    <tr>\n",
       "      <th>47309</th>\n",
       "      <td>County</td>\n",
       "      <td>2019/01/01</td>\n",
       "      <td>42.0</td>\n",
       "      <td>PA</td>\n",
       "      <td>42005.0</td>\n",
       "      <td>Armstrong County</td>\n",
       "      <td>14666.0</td>\n",
       "      <td>50069.0</td>\n",
       "      <td>168758.0</td>\n",
       "      <td>37207.0</td>\n",
       "      <td>...</td>\n",
       "      <td>2828.0</td>\n",
       "      <td>2118.0</td>\n",
       "      <td>193.0</td>\n",
       "      <td>313.0</td>\n",
       "      <td>42-42005-20190101</td>\n",
       "      <td>0</td>\n",
       "      <td>1</td>\n",
       "      <td>1</td>\n",
       "      <td>-0.505219</td>\n",
       "      <td>-0.539399</td>\n",
       "    </tr>\n",
       "    <tr>\n",
       "      <th>47310</th>\n",
       "      <td>County</td>\n",
       "      <td>2019/01/01</td>\n",
       "      <td>42.0</td>\n",
       "      <td>PA</td>\n",
       "      <td>42007.0</td>\n",
       "      <td>Beaver County</td>\n",
       "      <td>38533.0</td>\n",
       "      <td>125396.0</td>\n",
       "      <td>434495.0</td>\n",
       "      <td>105455.0</td>\n",
       "      <td>...</td>\n",
       "      <td>4585.0</td>\n",
       "      <td>3464.0</td>\n",
       "      <td>671.0</td>\n",
       "      <td>782.0</td>\n",
       "      <td>42-42007-20190101</td>\n",
       "      <td>0</td>\n",
       "      <td>1</td>\n",
       "      <td>1</td>\n",
       "      <td>-0.280053</td>\n",
       "      <td>-0.262233</td>\n",
       "    </tr>\n",
       "    <tr>\n",
       "      <th>47311</th>\n",
       "      <td>County</td>\n",
       "      <td>2019/01/01</td>\n",
       "      <td>42.0</td>\n",
       "      <td>PA</td>\n",
       "      <td>42009.0</td>\n",
       "      <td>Bedford County</td>\n",
       "      <td>10514.0</td>\n",
       "      <td>37374.0</td>\n",
       "      <td>128743.0</td>\n",
       "      <td>25345.0</td>\n",
       "      <td>...</td>\n",
       "      <td>3929.0</td>\n",
       "      <td>2496.0</td>\n",
       "      <td>343.0</td>\n",
       "      <td>157.0</td>\n",
       "      <td>42-42009-20190101</td>\n",
       "      <td>0</td>\n",
       "      <td>1</td>\n",
       "      <td>1</td>\n",
       "      <td>-0.544355</td>\n",
       "      <td>-0.597344</td>\n",
       "    </tr>\n",
       "  </tbody>\n",
       "</table>\n",
       "<p>5 rows × 25 columns</p>\n",
       "</div>"
      ],
      "text/plain": [
       "        Level        Date  State FIPS State Postal Code  County FIPS  \\\n",
       "47307  County  2019/01/01        42.0                PA      42001.0   \n",
       "47308  County  2019/01/01        42.0                PA      42003.0   \n",
       "47309  County  2019/01/01        42.0                PA      42005.0   \n",
       "47310  County  2019/01/01        42.0                PA      42007.0   \n",
       "47311  County  2019/01/01        42.0                PA      42009.0   \n",
       "\n",
       "            County Name  Population Staying at Home  \\\n",
       "47307      Adams County                     21320.0   \n",
       "47308  Allegheny County                    310544.0   \n",
       "47309  Armstrong County                     14666.0   \n",
       "47310     Beaver County                     38533.0   \n",
       "47311    Bedford County                     10514.0   \n",
       "\n",
       "       Population Not Staying at Home  Number of Trips  Number of Trips <1  \\\n",
       "47307                         81689.0         277795.0             49578.0   \n",
       "47308                        905501.0        3240339.0            897498.0   \n",
       "47309                         50069.0         168758.0             37207.0   \n",
       "47310                        125396.0         434495.0            105455.0   \n",
       "47311                         37374.0         128743.0             25345.0   \n",
       "\n",
       "       ...  Number of Trips 50-100  Number of Trips 100-250  \\\n",
       "47307  ...                  7280.0                   2124.0   \n",
       "47308  ...                 28719.0                  17208.0   \n",
       "47309  ...                  2828.0                   2118.0   \n",
       "47310  ...                  4585.0                   3464.0   \n",
       "47311  ...                  3929.0                   2496.0   \n",
       "\n",
       "       Number of Trips 250-500  Number of Trips >=500             Row ID  \\\n",
       "47307                    364.0                  271.0  42-42001-20190101   \n",
       "47308                   4713.0                 6125.0  42-42003-20190101   \n",
       "47309                    193.0                  313.0  42-42005-20190101   \n",
       "47310                    671.0                  782.0  42-42007-20190101   \n",
       "47311                    343.0                  157.0  42-42009-20190101   \n",
       "\n",
       "       Week  Month  Quarter  scaledpa scaled1_3pa  \n",
       "47307     0      1        1 -0.464404   -0.436608  \n",
       "47308     0      1        1  2.333079    2.761655  \n",
       "47309     0      1        1 -0.505219   -0.539399  \n",
       "47310     0      1        1 -0.280053   -0.262233  \n",
       "47311     0      1        1 -0.544355   -0.597344  \n",
       "\n",
       "[5 rows x 25 columns]"
      ]
     },
     "execution_count": 58,
     "metadata": {},
     "output_type": "execute_result"
    }
   ],
   "source": [
    "PAwithCounty.head()"
   ]
  },
  {
   "cell_type": "code",
   "execution_count": 59,
   "id": "325359ff",
   "metadata": {},
   "outputs": [],
   "source": [
    "INwithCounty = INwithCounty.assign(business = scaled + scaled1_3)"
   ]
  },
  {
   "cell_type": "code",
   "execution_count": 60,
   "id": "339d7efa",
   "metadata": {},
   "outputs": [],
   "source": [
    "PAwithCounty = PAwithCounty.assign(business = scaledPA + scaled1_3PA)"
   ]
  },
  {
   "cell_type": "code",
   "execution_count": 61,
   "id": "2e9296d1",
   "metadata": {},
   "outputs": [],
   "source": [
    "inQuarterlyNumbers = INwithCounty.groupby('Quarter').agg({'business': ['mean', 'max', 'sum']})"
   ]
  },
  {
   "cell_type": "code",
   "execution_count": 62,
   "id": "080ebcdd",
   "metadata": {},
   "outputs": [],
   "source": [
    "inMonthlyNumbers = INwithCounty.groupby('Month').agg({'business': ['mean', 'max', 'sum']})"
   ]
  },
  {
   "cell_type": "code",
   "execution_count": 63,
   "id": "6fc88185",
   "metadata": {},
   "outputs": [],
   "source": [
    "paQuarterlyNumbers = PAwithCounty.groupby('Quarter').agg({'business': ['mean', 'max', 'sum']})"
   ]
  },
  {
   "cell_type": "code",
   "execution_count": 64,
   "id": "ae381bb8",
   "metadata": {},
   "outputs": [],
   "source": [
    "paMonthlyNumbers = PAwithCounty.groupby('Month').agg({'business': ['mean', 'max', 'sum']})"
   ]
  },
  {
   "cell_type": "code",
   "execution_count": 79,
   "id": "8db674db",
   "metadata": {},
   "outputs": [
    {
     "data": {
      "text/plain": [
       "Int64Index([1, 2, 3, 4, 5, 6, 7, 8, 9, 10, 11, 12], dtype='int64', name='Month')"
      ]
     },
     "execution_count": 79,
     "metadata": {},
     "output_type": "execute_result"
    }
   ],
   "source": [
    "paMonthlyNumbers.index"
   ]
  },
  {
   "cell_type": "code",
   "execution_count": 81,
   "id": "e9c11b52",
   "metadata": {},
   "outputs": [
    {
     "data": {
      "image/png": "[encoded data removed]",
      "text/plain": [
       "<Figure size 640x480 with 1 Axes>"
      ]
     },
     "metadata": {},
     "output_type": "display_data"
    }
   ],
   "source": [
    "\n",
    "plt.bar(inMonthlyNumbers['business'].index, inMonthlyNumbers['business']['sum'], label='Indianapolis')\n",
    "plt.bar(paMonthlyNumbers['business'].index, paMonthlyNumbers['business']['sum'], label='Philadelphia')\n",
    "\n",
    "plt.legend()\n",
    "plt.show()"
   ]
  },
  {
   "cell_type": "code",
   "execution_count": 82,
   "id": "e7f5c6cd",
   "metadata": {},
   "outputs": [
    {
     "data": {
      "image/png": "[encoded data removed]",
      "text/plain": [
       "<Figure size 640x480 with 1 Axes>"
      ]
     },
     "metadata": {},
     "output_type": "display_data"
    }
   ],
   "source": [
    "plt.bar(inQuarterlyNumbers['business'].index, inQuarterlyNumbers['business']['sum'], label='Indianapolis')\n",
    "plt.bar(paQuarterlyNumbers['business'].index, paQuarterlyNumbers['business']['sum'], label='Philadelphia')\n",
    "\n",
    "plt.legend()\n",
    "plt.show()"
   ]
  },
  {
   "cell_type": "code",
   "execution_count": null,
   "id": "b556f78b",
   "metadata": {},
   "outputs": [],
   "source": []
  }
 ],
 "metadata": {
  "kernelspec": {
   "display_name": "Python 3 (ipykernel)",
   "language": "python",
   "name": "python3"
  },
  "language_info": {
   "codemirror_mode": {
    "name": "ipython",
    "version": 3
   },
   "file_extension": ".py",
   "mimetype": "text/x-python",
   "name": "python",
   "nbconvert_exporter": "python",
   "pygments_lexer": "ipython3",
   "version": "3.11.0"
  }
 },
 "nbformat": 4,
 "nbformat_minor": 5
}
