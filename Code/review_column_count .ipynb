{
 "cells": [
  {
   "cell_type": "code",
   "execution_count": 4,
   "id": "d8186396",
   "metadata": {},
   "outputs": [],
   "source": [
    "import pandas as pd \n",
    "import numpy as np "
   ]
  },
  {
   "cell_type": "code",
   "execution_count": 5,
   "id": "75795b00",
   "metadata": {},
   "outputs": [],
   "source": [
    "indi_data=pd.read_csv('yelp_Fall2023/indi_beer_data.csv')\n",
    "philly_data=pd.read_csv('yelp_Fall2023/philly_beer_data.csv')"
   ]
  },
  {
   "cell_type": "code",
   "execution_count": 6,
   "id": "1c3dd7fe",
   "metadata": {},
   "outputs": [
    {
     "data": {
      "text/plain": [
       "Index(['Unnamed: 0', 'business_id', 'name', 'address', 'city', 'state',\n",
       "       'postal_code', 'latitude', 'longitude', 'avg_star', 'review_count',\n",
       "       'is_open', 'categories', 'hours', 'review_count_standard', 'review_id',\n",
       "       'user_id', 'review_star', 'useful', 'funny', 'cool', 'text', 'date',\n",
       "       'num_words_review', 'OutdoorSeating', 'RestaurantsPriceRange2',\n",
       "       'BusinessAcceptsCreditCards', 'DogsAllowed', 'Ambience', 'HappyHour',\n",
       "       'GoodForMeal', 'RestaurantsDelivery', 'HasTV', 'BusinessParking',\n",
       "       'RestaurantsTakeOut', 'GoodForKids', 'BikeParking', 'ByAppointmentOnly',\n",
       "       'RestaurantsReservations', 'Alcohol', 'WiFi', 'GoodForDancing',\n",
       "       'CoatCheck', 'NoiseLevel', 'BestNights', 'Caters',\n",
       "       'RestaurantsGoodForGroups', 'RestaurantsAttire', 'Music', 'BYOB',\n",
       "       'Smoking', 'WheelchairAccessible', 'RestaurantsTableService',\n",
       "       'BusinessAcceptsBitcoin', 'Corkage', 'BYOBCorkage', 'DriveThru'],\n",
       "      dtype='object')"
      ]
     },
     "execution_count": 6,
     "metadata": {},
     "output_type": "execute_result"
    }
   ],
   "source": [
    "indi_data.columns"
   ]
  },
  {
   "cell_type": "code",
   "execution_count": 7,
   "id": "87f5aed0",
   "metadata": {},
   "outputs": [],
   "source": [
    "# Convert the \"date\" column to a datetime object\n",
    "indi_data['date'] = pd.to_datetime(indi_data['date'])\n",
    "philly_data['date'] = pd.to_datetime(philly_data['date'])"
   ]
  },
  {
   "cell_type": "code",
   "execution_count": 8,
   "id": "f218ade3",
   "metadata": {},
   "outputs": [],
   "source": [
    "def map_month_to_quarter(month):\n",
    "    if 1 <= month <= 3:\n",
    "        return 'Q1'\n",
    "    elif 4 <= month <= 6:\n",
    "        return 'Q2'\n",
    "    elif 7 <= month <= 9:\n",
    "        return 'Q3'\n",
    "    elif 10 <= month <= 12:\n",
    "        return 'Q4'"
   ]
  },
  {
   "cell_type": "code",
   "execution_count": 9,
   "id": "cc02a82b",
   "metadata": {},
   "outputs": [],
   "source": [
    "indi_data['month'] = indi_data['date'].dt.month"
   ]
  },
  {
   "cell_type": "code",
   "execution_count": 10,
   "id": "8ddcb40a",
   "metadata": {},
   "outputs": [],
   "source": [
    "philly_data['month'] = philly_data['date'].dt.month"
   ]
  },
  {
   "cell_type": "code",
   "execution_count": 11,
   "id": "96b3c4aa",
   "metadata": {},
   "outputs": [],
   "source": [
    "indi_data['quarter'] = indi_data['month'].apply(map_month_to_quarter)\n",
    "philly_data['quarter'] = philly_data['month'].apply(map_month_to_quarter)\n"
   ]
  },
  {
   "cell_type": "code",
   "execution_count": 12,
   "id": "a5511899",
   "metadata": {},
   "outputs": [],
   "source": [
    "indi_data = pd.get_dummies(indi_data, columns=['quarter'], prefix='quarter', prefix_sep='')\n"
   ]
  },
  {
   "cell_type": "code",
   "execution_count": 13,
   "id": "920e90e1",
   "metadata": {},
   "outputs": [],
   "source": [
    "philly_data = pd.get_dummies(philly_data, columns=['quarter'], prefix='quarter', prefix_sep='')"
   ]
  },
  {
   "cell_type": "code",
   "execution_count": 16,
   "id": "c61101f1",
   "metadata": {},
   "outputs": [
    {
     "data": {
      "text/html": [
       "<div>\n",
       "<style scoped>\n",
       "    .dataframe tbody tr th:only-of-type {\n",
       "        vertical-align: middle;\n",
       "    }\n",
       "\n",
       "    .dataframe tbody tr th {\n",
       "        vertical-align: top;\n",
       "    }\n",
       "\n",
       "    .dataframe thead th {\n",
       "        text-align: right;\n",
       "    }\n",
       "</style>\n",
       "<table border=\"1\" class=\"dataframe\">\n",
       "  <thead>\n",
       "    <tr style=\"text-align: right;\">\n",
       "      <th></th>\n",
       "      <th>Unnamed: 0</th>\n",
       "      <th>business_id</th>\n",
       "      <th>name</th>\n",
       "      <th>address</th>\n",
       "      <th>city</th>\n",
       "      <th>state</th>\n",
       "      <th>postal_code</th>\n",
       "      <th>latitude</th>\n",
       "      <th>longitude</th>\n",
       "      <th>avg_star</th>\n",
       "      <th>...</th>\n",
       "      <th>RestaurantsTableService</th>\n",
       "      <th>BusinessAcceptsBitcoin</th>\n",
       "      <th>Corkage</th>\n",
       "      <th>BYOBCorkage</th>\n",
       "      <th>DriveThru</th>\n",
       "      <th>month</th>\n",
       "      <th>quarterQ1</th>\n",
       "      <th>quarterQ2</th>\n",
       "      <th>quarterQ3</th>\n",
       "      <th>quarterQ4</th>\n",
       "    </tr>\n",
       "  </thead>\n",
       "  <tbody>\n",
       "    <tr>\n",
       "      <th>0</th>\n",
       "      <td>0</td>\n",
       "      <td>aPNXGTDkf-4bjhyMBQxqpQ</td>\n",
       "      <td>Craft Hall</td>\n",
       "      <td>901 N Delaware Ave</td>\n",
       "      <td>Philadelphia</td>\n",
       "      <td>PA</td>\n",
       "      <td>19123</td>\n",
       "      <td>39.962582</td>\n",
       "      <td>-75.135657</td>\n",
       "      <td>3.5</td>\n",
       "      <td>...</td>\n",
       "      <td>NaN</td>\n",
       "      <td>NaN</td>\n",
       "      <td>NaN</td>\n",
       "      <td>NaN</td>\n",
       "      <td>NaN</td>\n",
       "      <td>7</td>\n",
       "      <td>0</td>\n",
       "      <td>0</td>\n",
       "      <td>1</td>\n",
       "      <td>0</td>\n",
       "    </tr>\n",
       "    <tr>\n",
       "      <th>1</th>\n",
       "      <td>1</td>\n",
       "      <td>aPNXGTDkf-4bjhyMBQxqpQ</td>\n",
       "      <td>Craft Hall</td>\n",
       "      <td>901 N Delaware Ave</td>\n",
       "      <td>Philadelphia</td>\n",
       "      <td>PA</td>\n",
       "      <td>19123</td>\n",
       "      <td>39.962582</td>\n",
       "      <td>-75.135657</td>\n",
       "      <td>3.5</td>\n",
       "      <td>...</td>\n",
       "      <td>NaN</td>\n",
       "      <td>NaN</td>\n",
       "      <td>NaN</td>\n",
       "      <td>NaN</td>\n",
       "      <td>NaN</td>\n",
       "      <td>6</td>\n",
       "      <td>0</td>\n",
       "      <td>1</td>\n",
       "      <td>0</td>\n",
       "      <td>0</td>\n",
       "    </tr>\n",
       "    <tr>\n",
       "      <th>2</th>\n",
       "      <td>2</td>\n",
       "      <td>aPNXGTDkf-4bjhyMBQxqpQ</td>\n",
       "      <td>Craft Hall</td>\n",
       "      <td>901 N Delaware Ave</td>\n",
       "      <td>Philadelphia</td>\n",
       "      <td>PA</td>\n",
       "      <td>19123</td>\n",
       "      <td>39.962582</td>\n",
       "      <td>-75.135657</td>\n",
       "      <td>3.5</td>\n",
       "      <td>...</td>\n",
       "      <td>NaN</td>\n",
       "      <td>NaN</td>\n",
       "      <td>NaN</td>\n",
       "      <td>NaN</td>\n",
       "      <td>NaN</td>\n",
       "      <td>3</td>\n",
       "      <td>1</td>\n",
       "      <td>0</td>\n",
       "      <td>0</td>\n",
       "      <td>0</td>\n",
       "    </tr>\n",
       "    <tr>\n",
       "      <th>3</th>\n",
       "      <td>3</td>\n",
       "      <td>aPNXGTDkf-4bjhyMBQxqpQ</td>\n",
       "      <td>Craft Hall</td>\n",
       "      <td>901 N Delaware Ave</td>\n",
       "      <td>Philadelphia</td>\n",
       "      <td>PA</td>\n",
       "      <td>19123</td>\n",
       "      <td>39.962582</td>\n",
       "      <td>-75.135657</td>\n",
       "      <td>3.5</td>\n",
       "      <td>...</td>\n",
       "      <td>NaN</td>\n",
       "      <td>NaN</td>\n",
       "      <td>NaN</td>\n",
       "      <td>NaN</td>\n",
       "      <td>NaN</td>\n",
       "      <td>4</td>\n",
       "      <td>0</td>\n",
       "      <td>1</td>\n",
       "      <td>0</td>\n",
       "      <td>0</td>\n",
       "    </tr>\n",
       "    <tr>\n",
       "      <th>4</th>\n",
       "      <td>4</td>\n",
       "      <td>aPNXGTDkf-4bjhyMBQxqpQ</td>\n",
       "      <td>Craft Hall</td>\n",
       "      <td>901 N Delaware Ave</td>\n",
       "      <td>Philadelphia</td>\n",
       "      <td>PA</td>\n",
       "      <td>19123</td>\n",
       "      <td>39.962582</td>\n",
       "      <td>-75.135657</td>\n",
       "      <td>3.5</td>\n",
       "      <td>...</td>\n",
       "      <td>NaN</td>\n",
       "      <td>NaN</td>\n",
       "      <td>NaN</td>\n",
       "      <td>NaN</td>\n",
       "      <td>NaN</td>\n",
       "      <td>5</td>\n",
       "      <td>0</td>\n",
       "      <td>1</td>\n",
       "      <td>0</td>\n",
       "      <td>0</td>\n",
       "    </tr>\n",
       "  </tbody>\n",
       "</table>\n",
       "<p>5 rows × 62 columns</p>\n",
       "</div>"
      ],
      "text/plain": [
       "   Unnamed: 0             business_id        name             address  \\\n",
       "0           0  aPNXGTDkf-4bjhyMBQxqpQ  Craft Hall  901 N Delaware Ave   \n",
       "1           1  aPNXGTDkf-4bjhyMBQxqpQ  Craft Hall  901 N Delaware Ave   \n",
       "2           2  aPNXGTDkf-4bjhyMBQxqpQ  Craft Hall  901 N Delaware Ave   \n",
       "3           3  aPNXGTDkf-4bjhyMBQxqpQ  Craft Hall  901 N Delaware Ave   \n",
       "4           4  aPNXGTDkf-4bjhyMBQxqpQ  Craft Hall  901 N Delaware Ave   \n",
       "\n",
       "           city state  postal_code   latitude  longitude  avg_star  ...  \\\n",
       "0  Philadelphia    PA        19123  39.962582 -75.135657       3.5  ...   \n",
       "1  Philadelphia    PA        19123  39.962582 -75.135657       3.5  ...   \n",
       "2  Philadelphia    PA        19123  39.962582 -75.135657       3.5  ...   \n",
       "3  Philadelphia    PA        19123  39.962582 -75.135657       3.5  ...   \n",
       "4  Philadelphia    PA        19123  39.962582 -75.135657       3.5  ...   \n",
       "\n",
       "   RestaurantsTableService  BusinessAcceptsBitcoin Corkage BYOBCorkage  \\\n",
       "0                      NaN                     NaN     NaN         NaN   \n",
       "1                      NaN                     NaN     NaN         NaN   \n",
       "2                      NaN                     NaN     NaN         NaN   \n",
       "3                      NaN                     NaN     NaN         NaN   \n",
       "4                      NaN                     NaN     NaN         NaN   \n",
       "\n",
       "   DriveThru month quarterQ1  quarterQ2  quarterQ3  quarterQ4  \n",
       "0        NaN     7         0          0          1          0  \n",
       "1        NaN     6         0          1          0          0  \n",
       "2        NaN     3         1          0          0          0  \n",
       "3        NaN     4         0          1          0          0  \n",
       "4        NaN     5         0          1          0          0  \n",
       "\n",
       "[5 rows x 62 columns]"
      ]
     },
     "execution_count": 16,
     "metadata": {},
     "output_type": "execute_result"
    }
   ],
   "source": [
    "philly_data.head()"
   ]
  },
  {
   "cell_type": "code",
   "execution_count": 15,
   "id": "0b221be1",
   "metadata": {},
   "outputs": [
    {
     "ename": "ValueError",
     "evalue": "No axis named name for object type DataFrame",
     "output_type": "error",
     "traceback": [
      "\u001b[0;31m---------------------------------------------------------------------------\u001b[0m",
      "\u001b[0;31mKeyError\u001b[0m                                  Traceback (most recent call last)",
      "File \u001b[0;32m/Library/Frameworks/Python.framework/Versions/3.11/lib/python3.11/site-packages/pandas/core/generic.py:554\u001b[0m, in \u001b[0;36mNDFrame._get_axis_number\u001b[0;34m(cls, axis)\u001b[0m\n\u001b[1;32m    553\u001b[0m \u001b[38;5;28;01mtry\u001b[39;00m:\n\u001b[0;32m--> 554\u001b[0m     \u001b[38;5;28;01mreturn\u001b[39;00m \u001b[38;5;28;43mcls\u001b[39;49m\u001b[38;5;241;43m.\u001b[39;49m\u001b[43m_AXIS_TO_AXIS_NUMBER\u001b[49m\u001b[43m[\u001b[49m\u001b[43maxis\u001b[49m\u001b[43m]\u001b[49m\n\u001b[1;32m    555\u001b[0m \u001b[38;5;28;01mexcept\u001b[39;00m \u001b[38;5;167;01mKeyError\u001b[39;00m:\n",
      "\u001b[0;31mKeyError\u001b[0m: 'name'",
      "\nDuring handling of the above exception, another exception occurred:\n",
      "\u001b[0;31mValueError\u001b[0m                                Traceback (most recent call last)",
      "Cell \u001b[0;32mIn [15], line 2\u001b[0m\n\u001b[1;32m      1\u001b[0m listOfCols \u001b[38;5;241m=\u001b[39m [\u001b[38;5;124m'\u001b[39m\u001b[38;5;124mbusiness_id\u001b[39m\u001b[38;5;124m'\u001b[39m,\u001b[38;5;124m'\u001b[39m\u001b[38;5;124mname\u001b[39m\u001b[38;5;124m'\u001b[39m, \u001b[38;5;124m'\u001b[39m\u001b[38;5;124mquarterQ1\u001b[39m\u001b[38;5;124m'\u001b[39m, \u001b[38;5;124m'\u001b[39m\u001b[38;5;124mquarterQ2\u001b[39m\u001b[38;5;124m'\u001b[39m, \u001b[38;5;124m'\u001b[39m\u001b[38;5;124mquarterQ3\u001b[39m\u001b[38;5;124m'\u001b[39m, \u001b[38;5;124m'\u001b[39m\u001b[38;5;124mquarterQ4\u001b[39m\u001b[38;5;124m'\u001b[39m]\n\u001b[0;32m----> 2\u001b[0m noOfReviewsIndi \u001b[38;5;241m=\u001b[39m \u001b[43mindi_data\u001b[49m\u001b[43m[\u001b[49m\u001b[43mlistOfCols\u001b[49m\u001b[43m]\u001b[49m\u001b[38;5;241;43m.\u001b[39;49m\u001b[43mgroupby\u001b[49m\u001b[43m(\u001b[49m\u001b[38;5;124;43m'\u001b[39;49m\u001b[38;5;124;43mbusiness_id\u001b[39;49m\u001b[38;5;124;43m'\u001b[39;49m\u001b[43m,\u001b[49m\u001b[43m \u001b[49m\u001b[38;5;124;43m'\u001b[39;49m\u001b[38;5;124;43mname\u001b[39;49m\u001b[38;5;124;43m'\u001b[39;49m\u001b[43m)\u001b[49m\u001b[38;5;241m.\u001b[39msum()\u001b[38;5;241m.\u001b[39mreset_index()\n\u001b[1;32m      3\u001b[0m noOfReviewsPhilly \u001b[38;5;241m=\u001b[39m philly_data[listOfCols]\u001b[38;5;241m.\u001b[39mgroupby(\u001b[38;5;124m'\u001b[39m\u001b[38;5;124mbusiness_id\u001b[39m\u001b[38;5;124m'\u001b[39m, \u001b[38;5;124m'\u001b[39m\u001b[38;5;124mname\u001b[39m\u001b[38;5;124m'\u001b[39m)\u001b[38;5;241m.\u001b[39msum()\u001b[38;5;241m.\u001b[39mreset_index()\n",
      "File \u001b[0;32m/Library/Frameworks/Python.framework/Versions/3.11/lib/python3.11/site-packages/pandas/core/frame.py:8387\u001b[0m, in \u001b[0;36mDataFrame.groupby\u001b[0;34m(self, by, axis, level, as_index, sort, group_keys, squeeze, observed, dropna)\u001b[0m\n\u001b[1;32m   8385\u001b[0m \u001b[38;5;28;01mif\u001b[39;00m level \u001b[38;5;129;01mis\u001b[39;00m \u001b[38;5;28;01mNone\u001b[39;00m \u001b[38;5;129;01mand\u001b[39;00m by \u001b[38;5;129;01mis\u001b[39;00m \u001b[38;5;28;01mNone\u001b[39;00m:\n\u001b[1;32m   8386\u001b[0m     \u001b[38;5;28;01mraise\u001b[39;00m \u001b[38;5;167;01mTypeError\u001b[39;00m(\u001b[38;5;124m\"\u001b[39m\u001b[38;5;124mYou have to supply one of \u001b[39m\u001b[38;5;124m'\u001b[39m\u001b[38;5;124mby\u001b[39m\u001b[38;5;124m'\u001b[39m\u001b[38;5;124m and \u001b[39m\u001b[38;5;124m'\u001b[39m\u001b[38;5;124mlevel\u001b[39m\u001b[38;5;124m'\u001b[39m\u001b[38;5;124m\"\u001b[39m)\n\u001b[0;32m-> 8387\u001b[0m axis \u001b[38;5;241m=\u001b[39m \u001b[38;5;28;43mself\u001b[39;49m\u001b[38;5;241;43m.\u001b[39;49m\u001b[43m_get_axis_number\u001b[49m\u001b[43m(\u001b[49m\u001b[43maxis\u001b[49m\u001b[43m)\u001b[49m\n\u001b[1;32m   8389\u001b[0m \u001b[38;5;28;01mreturn\u001b[39;00m DataFrameGroupBy(\n\u001b[1;32m   8390\u001b[0m     obj\u001b[38;5;241m=\u001b[39m\u001b[38;5;28mself\u001b[39m,\n\u001b[1;32m   8391\u001b[0m     keys\u001b[38;5;241m=\u001b[39mby,\n\u001b[0;32m   (...)\u001b[0m\n\u001b[1;32m   8399\u001b[0m     dropna\u001b[38;5;241m=\u001b[39mdropna,\n\u001b[1;32m   8400\u001b[0m )\n",
      "File \u001b[0;32m/Library/Frameworks/Python.framework/Versions/3.11/lib/python3.11/site-packages/pandas/core/generic.py:556\u001b[0m, in \u001b[0;36mNDFrame._get_axis_number\u001b[0;34m(cls, axis)\u001b[0m\n\u001b[1;32m    554\u001b[0m     \u001b[38;5;28;01mreturn\u001b[39;00m \u001b[38;5;28mcls\u001b[39m\u001b[38;5;241m.\u001b[39m_AXIS_TO_AXIS_NUMBER[axis]\n\u001b[1;32m    555\u001b[0m \u001b[38;5;28;01mexcept\u001b[39;00m \u001b[38;5;167;01mKeyError\u001b[39;00m:\n\u001b[0;32m--> 556\u001b[0m     \u001b[38;5;28;01mraise\u001b[39;00m \u001b[38;5;167;01mValueError\u001b[39;00m(\u001b[38;5;124mf\u001b[39m\u001b[38;5;124m\"\u001b[39m\u001b[38;5;124mNo axis named \u001b[39m\u001b[38;5;132;01m{\u001b[39;00maxis\u001b[38;5;132;01m}\u001b[39;00m\u001b[38;5;124m for object type \u001b[39m\u001b[38;5;132;01m{\u001b[39;00m\u001b[38;5;28mcls\u001b[39m\u001b[38;5;241m.\u001b[39m\u001b[38;5;18m__name__\u001b[39m\u001b[38;5;132;01m}\u001b[39;00m\u001b[38;5;124m\"\u001b[39m)\n",
      "\u001b[0;31mValueError\u001b[0m: No axis named name for object type DataFrame"
     ]
    }
   ],
   "source": [
    "listOfCols = ['business_id', 'quarterQ1', 'quarterQ2', 'quarterQ3', 'quarterQ4']\n",
    "noOfReviewsIndi = indi_data[listOfCols].groupby('business_id').sum()\n",
    "noOfReviewsPhilly = philly_data[listOfCols].groupby('business_id').sum()"
   ]
  },
  {
   "cell_type": "code",
   "execution_count": null,
   "id": "75ae63da",
   "metadata": {},
   "outputs": [],
   "source": [
    "noOfReviewsIndi.head()"
   ]
  },
  {
   "cell_type": "code",
   "execution_count": null,
   "id": "c194b7a7",
   "metadata": {},
   "outputs": [],
   "source": [
    "noOfReviewsPhilly.head()"
   ]
  },
  {
   "cell_type": "markdown",
   "id": "efb26a07",
   "metadata": {},
   "source": [
    "scaling numbers for Indianapolis: Q1:-422.410233 Q2:1768.124296 Q3:514.412408 Q4:-1860.126471"
   ]
  },
  {
   "cell_type": "markdown",
   "id": "59bec161",
   "metadata": {},
   "source": [
    "scaling numbers for Philadelphia: Q1:-221.008855 Q2:736.391438 Q3:734.773570 Q4:-1250.156153"
   ]
  },
  {
   "cell_type": "code",
   "execution_count": null,
   "id": "f5ed80d3",
   "metadata": {},
   "outputs": [],
   "source": []
  }
 ],
 "metadata": {
  "kernelspec": {
   "display_name": "Python 3 (ipykernel)",
   "language": "python",
   "name": "python3"
  },
  "language_info": {
   "codemirror_mode": {
    "name": "ipython",
    "version": 3
   },
   "file_extension": ".py",
   "mimetype": "text/x-python",
   "name": "python",
   "nbconvert_exporter": "python",
   "pygments_lexer": "ipython3",
   "version": "3.11.0"
  }
 },
 "nbformat": 4,
 "nbformat_minor": 5
}
